{
 "cells": [
  {
   "cell_type": "code",
   "execution_count": 6,
   "metadata": {},
   "outputs": [
    {
     "ename": "IndentationError",
     "evalue": "unexpected indent (<ipython-input-6-9918847845cd>, line 49)",
     "output_type": "error",
     "traceback": [
      "\u001b[1;36m  File \u001b[1;32m\"<ipython-input-6-9918847845cd>\"\u001b[1;36m, line \u001b[1;32m49\u001b[0m\n\u001b[1;33m    if(valueproduct>0.8 or valuebrand>0.8 ):\u001b[0m\n\u001b[1;37m    ^\u001b[0m\n\u001b[1;31mIndentationError\u001b[0m\u001b[1;31m:\u001b[0m unexpected indent\n"
     ]
    }
   ],
   "source": [
    "import pandas as pd\n",
    "import textdistance\n",
    "import csv\n",
    "import time\n",
    "\n",
    "#nulis csv\n",
    "csv_file = open('hasilsimilarityuntukVbox.csv', mode='w', newline='') \n",
    "fieldnames = ['nama_product_crawl','nama_product_halal','brand_product_crawl','brand_product_halal','nilai_sim_product',\\\n",
    "             'nilai_sim_brand','pembobotan_produk(0.6)','pembobotan_produk(0.4)','pembobotan_produk(0.7)',\\\n",
    "              'pembobotan_produk(0.3)','pembobotan_produk(0.8)','pembobotan_produk(0.2)']\n",
    "writer = csv.DictWriter(csv_file, fieldnames=fieldnames)\n",
    "writer.writeheader()\n",
    "\n",
    "#load data dapat diubah2 banyak rownya sesuai keinginan pada bagian nrows=1000\n",
    "dcrawl= pd.read_csv(\"dcrawlSorting.csv\",index_col=None,nrows=1000,low_memory=False)\n",
    "halal= pd.read_csv(\"be.csv\",index_col=None,low_memory=False)\n",
    "dcrawl=dcrawl[['product_name','product_brand',]]\n",
    "halal=halal[['ProductHalal','ManufakturHalal',]]\n",
    "\n",
    "print(\"mulai\")\n",
    "\n",
    "\n",
    "#hitung waktu jalan\n",
    "start_time = time.time()\n",
    "e=0\n",
    "\n",
    "#looping perbandingan\n",
    "for a1 in range(dcrawl.shape[0]):\n",
    "    for a2 in range(halal.shape[0]):\n",
    "        \n",
    "        e+=1\n",
    "        if e%10000 == 0:\n",
    "            elapsed_time = time.time() - start_time\n",
    "                \n",
    "        dcr=dcrawl.product_name[a1]\n",
    "        dcr1=dcrawl.product_brand[a1]\n",
    "        hll=halal.ProductHalal[a2]\n",
    "        hll1=halal.ManufakturHalal[a2] \n",
    "        \n",
    "        print(dcr, \"dan\", hll, \"nilai similariy\")\n",
    "        #syarat\n",
    "        if str(dcr)[:5] == str(hll)[:5] or str(dcr1)[:5]==str(hll1)[:5]:\n",
    "            if len (str(hll1))==0:\n",
    "                continue\n",
    "            else:\n",
    "                valueproduct = textdistance.cosine.normalized_similarity(str(dcr),str(hll))    \n",
    "                valuebrand = textdistance.cosine.normalized_similarity(str(dcr1),str(hll1))\n",
    "                \n",
    "                if(valueproduct>0.8 or valuebrand>0.8 ):\n",
    "                        writer.writerow({'nama_product_crawl':dcr,'nama_product_halal':hll ,'brand_product_crawl': dcr1,\\\n",
    "                                         'brand_product_halal':hll1,'nilai_sim_product':valueproduct,'nilai_sim_brand':valuebrand,\\\n",
    "                                         'pembobotan_produk(0.6)':str(valueproduct*0.6+valuebrand*0.4).encode('utf-8'),\\\n",
    "                                         'pembobotan_produk(0.4)':str(valueproduct*0.4+valuebrand*0.6).encode('utf-8'),\\\n",
    "                                         'pembobotan_produk(0.7)':str(valueproduct*0.7+valuebrand*0.3).encode('utf-8'),\\\n",
    "                                         'pembobotan_produk(0.3)':str(valueproduct*0.3+valuebrand*0.7).encode('utf-8'),\\\n",
    "                                         'pembobotan_produk(0.8)':str(valueproduct*0.8+valuebrand*0.2).encode('utf-8'),\\\n",
    "                                         'pembobotan_produk(0.2)':str(valueproduct*0.2+valuebrand*0.8).encode('utf-8') })\n",
    "csv_file.close() \n",
    "                \n",
    "print('==============================\\n\\n',e,'selesai dalam waktu ',elapsed_time, '\\n\\n==============================') "
   ]
  }
 ],
 "metadata": {
  "kernelspec": {
   "display_name": "Python 3",
   "language": "python",
   "name": "python3"
  },
  "language_info": {
   "codemirror_mode": {
    "name": "ipython",
    "version": 3
   },
   "file_extension": ".py",
   "mimetype": "text/x-python",
   "name": "python",
   "nbconvert_exporter": "python",
   "pygments_lexer": "ipython3",
   "version": "3.7.1"
  }
 },
 "nbformat": 4,
 "nbformat_minor": 2
}
